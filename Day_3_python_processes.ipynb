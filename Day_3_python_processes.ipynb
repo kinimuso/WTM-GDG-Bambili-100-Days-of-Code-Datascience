{
  "nbformat": 4,
  "nbformat_minor": 0,
  "metadata": {
    "colab": {
      "name": "Day 3 python processes.ipynb",
      "provenance": [],
      "authorship_tag": "ABX9TyOze69+pzQqAhn0oYzam2fP",
      "include_colab_link": true
    },
    "kernelspec": {
      "name": "python3",
      "display_name": "Python 3"
    },
    "language_info": {
      "name": "python"
    }
  },
  "cells": [
    {
      "cell_type": "markdown",
      "metadata": {
        "id": "view-in-github",
        "colab_type": "text"
      },
      "source": [
        "<a href=\"https://colab.research.google.com/github/kinimuso/WTM-GDG-Bambili-100-Days-of-Code-Datascience/blob/main/Day_3_python_processes.ipynb\" target=\"_parent\"><img src=\"https://colab.research.google.com/assets/colab-badge.svg\" alt=\"Open In Colab\"/></a>"
      ]
    },
    {
      "cell_type": "code",
      "metadata": {
        "colab": {
          "base_uri": "https://localhost:8080/"
        },
        "id": "A5Tv9yRjWGbm",
        "outputId": "5715471a-a813-4a0b-a148-fb57efb6fdd1"
      },
      "source": [
        "answer = 1 + 1\n",
        "print (answer)"
      ],
      "execution_count": 1,
      "outputs": [
        {
          "output_type": "stream",
          "text": [
            "2\n"
          ],
          "name": "stdout"
        }
      ]
    },
    {
      "cell_type": "markdown",
      "metadata": {
        "id": "HDvp-Pppd16V"
      },
      "source": [
        "this code line performs basic arithmetic using th \"+\" operator"
      ]
    },
    {
      "cell_type": "code",
      "metadata": {
        "colab": {
          "base_uri": "https://localhost:8080/"
        },
        "id": "Q19_JsBUafaW",
        "outputId": "0f0909e0-69b5-47d9-e205-8af6d2292901"
      },
      "source": [
        "var1 = 2+2\n",
        "print(var1)\n",
        "#var1 is of type int"
      ],
      "execution_count": 4,
      "outputs": [
        {
          "output_type": "stream",
          "text": [
            "4\n"
          ],
          "name": "stdout"
        }
      ]
    },
    {
      "cell_type": "markdown",
      "metadata": {
        "id": "Y_Va93DpeBcN"
      },
      "source": [
        "this code declares a variable and determines the data type of items contained in that variable with data type int"
      ]
    },
    {
      "cell_type": "code",
      "metadata": {
        "colab": {
          "base_uri": "https://localhost:8080/"
        },
        "id": "_-HtVTpHatwl",
        "outputId": "14a61b45-9af8-434e-9cf5-313a784de8f7"
      },
      "source": [
        "var2 = 3+2/5\n",
        "print(var2)\n",
        "#var2 is of type float"
      ],
      "execution_count": 5,
      "outputs": [
        {
          "output_type": "stream",
          "text": [
            "3.4\n"
          ],
          "name": "stdout"
        }
      ]
    },
    {
      "cell_type": "markdown",
      "metadata": {
        "id": "cvMo4CNieadg"
      },
      "source": [
        "this code declares a variable and determines the data type of items contained in that variable with data type float"
      ]
    },
    {
      "cell_type": "code",
      "metadata": {
        "colab": {
          "base_uri": "https://localhost:8080/"
        },
        "id": "KAK8juGZbSSw",
        "outputId": "25d73a01-c6c3-4e91-8171-b6de1c8dd75e"
      },
      "source": [
        "var3 = 4*16\n",
        "print(var3)\n",
        "#var3 is of type int"
      ],
      "execution_count": 6,
      "outputs": [
        {
          "output_type": "stream",
          "text": [
            "64\n"
          ],
          "name": "stdout"
        }
      ]
    },
    {
      "cell_type": "markdown",
      "metadata": {
        "id": "NvdEL_b_ed2V"
      },
      "source": [
        "this code declares a variable and determines the data type of items contained in that variable with data type int"
      ]
    },
    {
      "cell_type": "code",
      "metadata": {
        "colab": {
          "base_uri": "https://localhost:8080/"
        },
        "id": "tIcjaWvhbqs8",
        "outputId": "72f25a6f-c0ae-46ac-84f2-ae585975e1a2"
      },
      "source": [
        "var4 = 4**6\n",
        "print(var4)\n",
        "#var3 is of type int"
      ],
      "execution_count": 7,
      "outputs": [
        {
          "output_type": "stream",
          "text": [
            "4096\n"
          ],
          "name": "stdout"
        }
      ]
    },
    {
      "cell_type": "markdown",
      "metadata": {
        "id": "9Dtn95anegOe"
      },
      "source": [
        "this code declares a variable and determines the data type of items contained in that variable with data type int"
      ]
    },
    {
      "cell_type": "code",
      "metadata": {
        "colab": {
          "base_uri": "https://localhost:8080/"
        },
        "id": "TXRVTwxZcGZd",
        "outputId": "cc38676a-bc22-4a6c-fdb2-4309e8314428"
      },
      "source": [
        "var5 = 'Hello' + ' ' + 'world'\n",
        "print(var5)\n",
        "#var5 is of type string"
      ],
      "execution_count": 8,
      "outputs": [
        {
          "output_type": "stream",
          "text": [
            "Hello world\n"
          ],
          "name": "stdout"
        }
      ]
    },
    {
      "cell_type": "markdown",
      "metadata": {
        "id": "RhGolXvdeiI9"
      },
      "source": [
        "this code declares a variable and determines the data type of items contained in that variable with data type string"
      ]
    },
    {
      "cell_type": "code",
      "metadata": {
        "colab": {
          "base_uri": "https://localhost:8080/"
        },
        "id": "ORHFUNLccd0Z",
        "outputId": "f43bce25-a500-4654-eb9e-4a7337bef596"
      },
      "source": [
        "var6 = 'Hello world'\n",
        "print(var6 * 5)\n",
        "#var6 is of type string"
      ],
      "execution_count": 10,
      "outputs": [
        {
          "output_type": "stream",
          "text": [
            "Hello worldHello worldHello worldHello worldHello world\n"
          ],
          "name": "stdout"
        }
      ]
    },
    {
      "cell_type": "markdown",
      "metadata": {
        "id": "QcXo_iUcelg9"
      },
      "source": [
        "this code declares a variable and determines the data type of items contained in that variable with data type string"
      ]
    },
    {
      "cell_type": "code",
      "metadata": {
        "colab": {
          "base_uri": "https://localhost:8080/"
        },
        "id": "-phJte2lc8am",
        "outputId": "02597e81-f13d-4d46-edd7-daf8124c5ca0"
      },
      "source": [
        "var7 = 4//3\n",
        "print(var7)\n",
        "#var5 is of type int"
      ],
      "execution_count": 14,
      "outputs": [
        {
          "output_type": "stream",
          "text": [
            "1\n"
          ],
          "name": "stdout"
        }
      ]
    },
    {
      "cell_type": "markdown",
      "metadata": {
        "id": "tnj4EiadeoTY"
      },
      "source": [
        "this code declares a variable and determines the data type of items contained in that variable with data type int"
      ]
    }
  ]
}