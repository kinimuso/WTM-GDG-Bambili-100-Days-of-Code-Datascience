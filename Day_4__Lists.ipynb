{
  "nbformat": 4,
  "nbformat_minor": 0,
  "metadata": {
    "colab": {
      "name": "Day 4_ Lists",
      "provenance": [],
      "authorship_tag": "ABX9TyMmYuV9Wg18dD17zCJD2wmn",
      "include_colab_link": true
    },
    "kernelspec": {
      "name": "python3",
      "display_name": "Python 3"
    },
    "language_info": {
      "name": "python"
    }
  },
  "cells": [
    {
      "cell_type": "markdown",
      "metadata": {
        "id": "view-in-github",
        "colab_type": "text"
      },
      "source": [
        "<a href=\"https://colab.research.google.com/github/kinimuso/WTM-GDG-Bambili-100-Days-of-Code-Datascience/blob/main/Day_4__Lists.ipynb\" target=\"_parent\"><img src=\"https://colab.research.google.com/assets/colab-badge.svg\" alt=\"Open In Colab\"/></a>"
      ]
    },
    {
      "cell_type": "code",
      "metadata": {
        "id": "mRnH-_UdjE6R"
      },
      "source": [
        "list1 =[\"boy\",\"house\",\"children\",\"they\",\"pigs\", 23.4, 15.0, 10.5, 2.4, 5.6, 16,22,39,42]\n"
      ],
      "execution_count": 9,
      "outputs": []
    },
    {
      "cell_type": "code",
      "metadata": {
        "colab": {
          "base_uri": "https://localhost:8080/"
        },
        "id": "Flh9783ojjJ3",
        "outputId": "92eb63a5-d4ba-4d2d-fcfd-7dee92f839b6"
      },
      "source": [
        "var1 = (\"Hello\" + \" world\")\n",
        "list1 = [\"boy\",\"house\",\"children\",\"they\",\"pigs\", 23.4, 15.0, 10.5, 2.4, 5.6, 16,22,39,42]\n",
        "list1.append(var1)\n",
        "print(list1)"
      ],
      "execution_count": 4,
      "outputs": [
        {
          "output_type": "stream",
          "name": "stdout",
          "text": [
            "['boy', 'house', 'children', 'they', 'pigs', 23.4, 15.0, 10.5, 2.4, 5.6, 16, 22, 39, 42, 'Hello world']\n"
          ]
        }
      ]
    },
    {
      "cell_type": "code",
      "metadata": {
        "id": "SNzzbyuE8KFV"
      },
      "source": [
        "list4 = [65, 35, 23, 67, 89, 80.8, 65.8, 0.8, 66.8, 84.5, 34,6, \"two\",\"free\",\"tree\",\"men\"]"
      ],
      "execution_count": null,
      "outputs": []
    },
    {
      "cell_type": "code",
      "metadata": {
        "colab": {
          "base_uri": "https://localhost:8080/"
        },
        "id": "i4UKODAg9B-Y",
        "outputId": "8abe9054-7896-4146-cef1-02c3fa187d9d"
      },
      "source": [
        "list1 = [\"boy\",\"house\",\"children\",\"they\",\"pigs\", 23.4, 15.0, 10.5, 2.4, 5.6, 16,22,39,42]\n",
        "list4 = [65, 35, 23, 67, 89, 80.8, 65.8, 0.8, 66.8, 84.5, 34,6, \"two\",\"free\",\"tree\",\"men\"]\n",
        "\n",
        "list5 = list1 + list4\n",
        "print(list5)\n"
      ],
      "execution_count": 5,
      "outputs": [
        {
          "output_type": "stream",
          "name": "stdout",
          "text": [
            "['boy', 'house', 'children', 'they', 'pigs', 23.4, 15.0, 10.5, 2.4, 5.6, 16, 22, 39, 42, 65, 35, 23, 67, 89, 80.8, 65.8, 0.8, 66.8, 84.5, 34, 6, 'two', 'free', 'tree', 'men']\n"
          ]
        }
      ]
    },
    {
      "cell_type": "code",
      "metadata": {
        "colab": {
          "base_uri": "https://localhost:8080/"
        },
        "id": "EBwRiQE-9m0A",
        "outputId": "5368929a-4307-4fd8-f464-5c83c3db1d61"
      },
      "source": [
        "list2 =[5, 6, 7.0, \"Eight\", \"Nine\"]\n",
        "list3 =[type(entry) for entry in list2]\n",
        "print (list3)"
      ],
      "execution_count": 12,
      "outputs": [
        {
          "output_type": "stream",
          "name": "stdout",
          "text": [
            "[<class 'int'>, <class 'int'>, <class 'float'>, <class 'str'>, <class 'str'>]\n"
          ]
        }
      ]
    }
  ]
}